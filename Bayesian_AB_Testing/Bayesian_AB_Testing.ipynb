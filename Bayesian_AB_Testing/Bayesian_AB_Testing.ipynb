{
  "nbformat": 4,
  "nbformat_minor": 0,
  "metadata": {
    "colab": {
      "name": "Bayesian_AB_Testing.ipynb",
      "version": "0.3.2",
      "provenance": [],
      "collapsed_sections": []
    },
    "kernelspec": {
      "name": "python3",
      "display_name": "Python 3"
    }
  },
  "cells": [
    {
      "metadata": {
        "id": "mZihpC6KjJCD",
        "colab_type": "code",
        "colab": {
          "base_uri": "https://localhost:8080/",
          "height": 51
        },
        "outputId": "b91e1979-f073-4b67-d806-a41f869b6e32"
      },
      "cell_type": "code",
      "source": [
        "import numpy as np\n",
        "from numpy.random import dirichlet\n",
        " \n",
        "def expected_revenue(P):\n",
        "    return 100*P[:,0] + 0*P[:,1]\n",
        " \n",
        "N_A = 10000\n",
        "N_A_TRUE = 3300\n",
        "N_A_FALSE = N_A - N_A_TRUE\n",
        "observations_A = np.array([N_A_TRUE, N_A_FALSE])\n",
        " \n",
        "N_B = 500\n",
        "N_B_TRUE = 170\n",
        "N_B_FALSE = N_B - N_B_TRUE\n",
        "observations_B = np.array([N_B_TRUE, N_B_FALSE])\n",
        " \n",
        "prior_parameters = np.array([1,1])\n",
        " \n",
        "posterior_samples_A = dirichlet(prior_parameters + observations_A, size=100000)\n",
        "posterior_samples_B = dirichlet(prior_parameters + observations_B, size=100000)\n",
        " \n",
        " \n",
        "posterior_expected_revenue_A = expected_revenue(posterior_samples_A)\n",
        "posterior_expected_revenue_B = expected_revenue(posterior_samples_B)\n",
        "p = (posterior_expected_revenue_B > posterior_expected_revenue_A).mean()\n",
        "\n",
        "print (\"B 가 A 보다 전환율이 클 확률: %.3f\"%p)\n",
        "print (\"Probability that p_B > p_A: %.3f\"%p)"
      ],
      "execution_count": 4,
      "outputs": [
        {
          "output_type": "stream",
          "text": [
            "B 가 A 보다 전환율이 클 확률: 0.687\n",
            "Probability that p_B > p_A: 0.687\n"
          ],
          "name": "stdout"
        }
      ]
    }
  ]
}