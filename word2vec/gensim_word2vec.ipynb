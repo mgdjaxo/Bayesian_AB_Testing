{
  "nbformat": 4,
  "nbformat_minor": 0,
  "metadata": {
    "colab": {
      "name": "connect_google_drive.ipynb",
      "version": "0.3.2",
      "provenance": [],
      "collapsed_sections": [],
      "include_colab_link": true
    },
    "kernelspec": {
      "name": "python3",
      "display_name": "Python 3"
    }
  },
  "cells": [
    {
      "cell_type": "markdown",
      "metadata": {
        "id": "view-in-github",
        "colab_type": "text"
      },
      "source": [
        "<a href=\"https://colab.research.google.com/github/mgdjaxo/hans_huginn/blob/master/word2vec/gensim_word2vec.ipynb\" target=\"_parent\"><img src=\"https://colab.research.google.com/assets/colab-badge.svg\" alt=\"Open In Colab\"/></a>"
      ]
    },
    {
      "metadata": {
        "id": "q2hCre0XFn-k",
        "colab_type": "code",
        "outputId": "214d51ef-5e52-4a7a-8f2d-cc5853741134",
        "colab": {
          "base_uri": "https://localhost:8080/",
          "height": 122
        }
      },
      "cell_type": "code",
      "source": [
        "from google.colab import drive\n",
        "drive.mount('/content/gdrive')"
      ],
      "execution_count": 2,
      "outputs": [
        {
          "output_type": "stream",
          "text": [
            "Go to this URL in a browser: https://accounts.google.com/o/oauth2/auth?client_id=947318989803-6bn6qk8qdgf4n4g3pfee6491hc0brc4i.apps.googleusercontent.com&redirect_uri=urn%3Aietf%3Awg%3Aoauth%3A2.0%3Aoob&scope=email%20https%3A%2F%2Fwww.googleapis.com%2Fauth%2Fdocs.test%20https%3A%2F%2Fwww.googleapis.com%2Fauth%2Fdrive%20https%3A%2F%2Fwww.googleapis.com%2Fauth%2Fdrive.photos.readonly%20https%3A%2F%2Fwww.googleapis.com%2Fauth%2Fpeopleapi.readonly&response_type=code\n",
            "\n",
            "Enter your authorization code:\n",
            "··········\n",
            "Mounted at /content/gdrive\n"
          ],
          "name": "stdout"
        }
      ]
    },
    {
      "metadata": {
        "id": "Tau7WFNaAfH5",
        "colab_type": "code",
        "colab": {}
      },
      "cell_type": "code",
      "source": [
        "!mkdir data\n",
        "!cp 'gdrive/My Drive/blog_notebooks/hotel-reviews.csv' 'data/hotel-reviews.csv'"
      ],
      "execution_count": 0,
      "outputs": []
    },
    {
      "metadata": {
        "id": "q7vxRumfAwew",
        "colab_type": "code",
        "outputId": "d2a65d86-c8f1-4731-ad6e-d0e727678ef3",
        "colab": {
          "base_uri": "https://localhost:8080/",
          "height": 207
        }
      },
      "cell_type": "code",
      "source": [
        "!tail data/hotel-reviews.csv"
      ],
      "execution_count": 4,
      "outputs": [
        {
          "output_type": "stream",
          "text": [
            "In the end, we cancelled the remainder of our reservation and moved to the Westin a couple of blocks away. \r\n",
            "Perhaps it was just an off day for this hotel. We had such a positive experience last year, though, that my guess is that there has been a management change, and that the employees at the hotel are not treated well…so guest treatment suffers, too.\",Firefox,Desktop,not happy\r\n",
            "id49253,\"We arrived late at night and walked in to a check-in area that had been completely flooded. There were fans running everywhere and water damage on the ceilings and walls. The computers didn't work at the front desk and they had to work from a computer in the back office. I only mention this because with these conditions,it would have been understandable if the two women behind the front desk had been unfriendly, but it was just the opposite. They were so nice and checked us in as quickly as possible.\r\n",
            "The room was nice and clean. Breakfast was okay. Plenty of choices, but we got to breakfast kind of late . The biscuits were hard and the fruit seemed old. I'm sure it would have been better if we had arrived to breakfast earlier. \r\n",
            "I'd definitely stay here again.\",Edge,Desktop,happy\r\n",
            "id49254,\"The only positive impression is location and public parking on the opposite site of the street. The hotel and rooms are very-very-very modest and spartan (even we have an upgraded room with a shower and wc) and also not very clean. Hotel is ok for its price but next time in SFO I'll better pay more and choose better hotel.\r\n",
            "Breakfast is not included, however there it very nice place with great breakfasts (porridge, toasts, fruits, eggs, etc.) from -am just two minutes away - Cafe de la Presse (https:--maps.google.ru-maps?hl=ru).\",InternetExplorer,Mobile,not happy\r\n",
            "id49255,\"Traveling with friends for shopping and a show. The location is Great, but that is the best I can say. The rooms are very average, hallway carpet is stained and buckled in many places. Couch and carpet in the room were also both stained. We had - rooms each with - people. One room had one nice fluffy robe and a throw, the other room had none. Upon leaving we called -- minutes ahead ahead for our car, as instructed. We came down, the bell man asked if we needed a cab, we told him we were waiting for our car. we waited -- minutes, with him standing right there at the bell stand, then he disappeared. we went inside to ask and the receptionist told us she forget to tell him to get it, and he was busy, so we would have to wait. She apologized, we waited another -- minutes, the manager asked if we were being helped, we explained our situation at which point the bell man came up and said he was busy and very rudely told us he would go get and was mumbling about us as he left-very bad customer service-given it was their mistake. I would not stay here again.\",Firefox,Mobile,not happy\r\n",
            "id49256,\"The experience was just ok. We paid extra for a view of the pool, but we just got a view of a palm tree blocking the pool. oh well... better than a parking lot or a dumpster. The most memorable part of our stay was the vent above the shower which was a portal to adjacent rooms. We heard conversations from our neighbors and then the odor of whatever weed they were smoking next door started to fill our room. At the end of the day, we were sure we were staying next to cheech and chong. Welcome to California, I guess.\",Chrome,Desktop,not happy\r\n",
            "id49257,The Westin is a wonderfully restored grande dame hotel. The beds and linens are excellent. Have to pay for internet,Mozilla,Desktop,happy\r\n"
          ],
          "name": "stdout"
        }
      ]
    },
    {
      "metadata": {
        "id": "XCE9aQduBvUU",
        "colab_type": "text"
      },
      "cell_type": "markdown",
      "source": [
        "Imports package"
      ]
    },
    {
      "metadata": {
        "id": "XgMkbaI1BAYl",
        "colab_type": "code",
        "colab": {}
      },
      "cell_type": "code",
      "source": [
        "import pandas , nltk\n",
        "from gensim.models import Word2Vec\n",
        "from nltk.tokenize import RegexpTokenizer"
      ],
      "execution_count": 0,
      "outputs": []
    },
    {
      "metadata": {
        "id": "bdzPQrXTgQ9K",
        "colab_type": "text"
      },
      "cell_type": "markdown",
      "source": [
        "Load Data"
      ]
    },
    {
      "metadata": {
        "id": "1zOVmZb5a-yo",
        "colab_type": "code",
        "colab": {}
      },
      "cell_type": "code",
      "source": [
        "filename = 'data/hotel-reviews.csv'\n",
        "df = pandas.read_csv(filename, sep=',')"
      ],
      "execution_count": 0,
      "outputs": []
    },
    {
      "metadata": {
        "id": "p2g14mcdE8Cy",
        "colab_type": "code",
        "outputId": "216ada08-6bf4-444b-a500-18082d11eedd",
        "colab": {
          "base_uri": "https://localhost:8080/",
          "height": 204
        }
      },
      "cell_type": "code",
      "source": [
        "df.head()"
      ],
      "execution_count": 7,
      "outputs": [
        {
          "output_type": "execute_result",
          "data": {
            "text/html": [
              "<div>\n",
              "<style scoped>\n",
              "    .dataframe tbody tr th:only-of-type {\n",
              "        vertical-align: middle;\n",
              "    }\n",
              "\n",
              "    .dataframe tbody tr th {\n",
              "        vertical-align: top;\n",
              "    }\n",
              "\n",
              "    .dataframe thead th {\n",
              "        text-align: right;\n",
              "    }\n",
              "</style>\n",
              "<table border=\"1\" class=\"dataframe\">\n",
              "  <thead>\n",
              "    <tr style=\"text-align: right;\">\n",
              "      <th></th>\n",
              "      <th>User_ID</th>\n",
              "      <th>Description</th>\n",
              "      <th>Browser_Used</th>\n",
              "      <th>Device_Used</th>\n",
              "      <th>Is_Response</th>\n",
              "    </tr>\n",
              "  </thead>\n",
              "  <tbody>\n",
              "    <tr>\n",
              "      <th>0</th>\n",
              "      <td>id10326</td>\n",
              "      <td>The room was kind of clean but had a VERY stro...</td>\n",
              "      <td>Edge</td>\n",
              "      <td>Mobile</td>\n",
              "      <td>not happy</td>\n",
              "    </tr>\n",
              "    <tr>\n",
              "      <th>1</th>\n",
              "      <td>id10327</td>\n",
              "      <td>I stayed at the Crown Plaza April -- - April -...</td>\n",
              "      <td>Internet Explorer</td>\n",
              "      <td>Mobile</td>\n",
              "      <td>not happy</td>\n",
              "    </tr>\n",
              "    <tr>\n",
              "      <th>2</th>\n",
              "      <td>id10328</td>\n",
              "      <td>I booked this hotel through Hotwire at the low...</td>\n",
              "      <td>Mozilla</td>\n",
              "      <td>Tablet</td>\n",
              "      <td>not happy</td>\n",
              "    </tr>\n",
              "    <tr>\n",
              "      <th>3</th>\n",
              "      <td>id10329</td>\n",
              "      <td>Stayed here with husband and sons on the way t...</td>\n",
              "      <td>InternetExplorer</td>\n",
              "      <td>Desktop</td>\n",
              "      <td>happy</td>\n",
              "    </tr>\n",
              "    <tr>\n",
              "      <th>4</th>\n",
              "      <td>id10330</td>\n",
              "      <td>My girlfriends and I stayed here to celebrate ...</td>\n",
              "      <td>Edge</td>\n",
              "      <td>Tablet</td>\n",
              "      <td>not happy</td>\n",
              "    </tr>\n",
              "  </tbody>\n",
              "</table>\n",
              "</div>"
            ],
            "text/plain": [
              "   User_ID                                        Description  \\\n",
              "0  id10326  The room was kind of clean but had a VERY stro...   \n",
              "1  id10327  I stayed at the Crown Plaza April -- - April -...   \n",
              "2  id10328  I booked this hotel through Hotwire at the low...   \n",
              "3  id10329  Stayed here with husband and sons on the way t...   \n",
              "4  id10330  My girlfriends and I stayed here to celebrate ...   \n",
              "\n",
              "        Browser_Used Device_Used Is_Response  \n",
              "0               Edge      Mobile   not happy  \n",
              "1  Internet Explorer      Mobile   not happy  \n",
              "2            Mozilla      Tablet   not happy  \n",
              "3   InternetExplorer     Desktop       happy  \n",
              "4               Edge      Tablet   not happy  "
            ]
          },
          "metadata": {
            "tags": []
          },
          "execution_count": 7
        }
      ]
    },
    {
      "metadata": {
        "id": "g38qc4ohZsBe",
        "colab_type": "code",
        "colab": {
          "base_uri": "https://localhost:8080/",
          "height": 204
        },
        "outputId": "a0064c4d-d745-46cb-aad8-a3e9e4be2d33"
      },
      "cell_type": "code",
      "source": [
        "def nltk_tokenizer(_wd):\n",
        "  return RegexpTokenizer(r'\\w+').tokenize(_wd.lower())\n",
        "\n",
        "df['Token_Description'] = df['Description'].apply(nltk_tokenizer)\n",
        "df.head()"
      ],
      "execution_count": 10,
      "outputs": [
        {
          "output_type": "execute_result",
          "data": {
            "text/html": [
              "<div>\n",
              "<style scoped>\n",
              "    .dataframe tbody tr th:only-of-type {\n",
              "        vertical-align: middle;\n",
              "    }\n",
              "\n",
              "    .dataframe tbody tr th {\n",
              "        vertical-align: top;\n",
              "    }\n",
              "\n",
              "    .dataframe thead th {\n",
              "        text-align: right;\n",
              "    }\n",
              "</style>\n",
              "<table border=\"1\" class=\"dataframe\">\n",
              "  <thead>\n",
              "    <tr style=\"text-align: right;\">\n",
              "      <th></th>\n",
              "      <th>User_ID</th>\n",
              "      <th>Description</th>\n",
              "      <th>Browser_Used</th>\n",
              "      <th>Device_Used</th>\n",
              "      <th>Is_Response</th>\n",
              "      <th>Token_Description</th>\n",
              "    </tr>\n",
              "  </thead>\n",
              "  <tbody>\n",
              "    <tr>\n",
              "      <th>0</th>\n",
              "      <td>id10326</td>\n",
              "      <td>The room was kind of clean but had a VERY stro...</td>\n",
              "      <td>Edge</td>\n",
              "      <td>Mobile</td>\n",
              "      <td>not happy</td>\n",
              "      <td>[the, room, was, kind, of, clean, but, had, a,...</td>\n",
              "    </tr>\n",
              "    <tr>\n",
              "      <th>1</th>\n",
              "      <td>id10327</td>\n",
              "      <td>I stayed at the Crown Plaza April -- - April -...</td>\n",
              "      <td>Internet Explorer</td>\n",
              "      <td>Mobile</td>\n",
              "      <td>not happy</td>\n",
              "      <td>[i, stayed, at, the, crown, plaza, april, apri...</td>\n",
              "    </tr>\n",
              "    <tr>\n",
              "      <th>2</th>\n",
              "      <td>id10328</td>\n",
              "      <td>I booked this hotel through Hotwire at the low...</td>\n",
              "      <td>Mozilla</td>\n",
              "      <td>Tablet</td>\n",
              "      <td>not happy</td>\n",
              "      <td>[i, booked, this, hotel, through, hotwire, at,...</td>\n",
              "    </tr>\n",
              "    <tr>\n",
              "      <th>3</th>\n",
              "      <td>id10329</td>\n",
              "      <td>Stayed here with husband and sons on the way t...</td>\n",
              "      <td>InternetExplorer</td>\n",
              "      <td>Desktop</td>\n",
              "      <td>happy</td>\n",
              "      <td>[stayed, here, with, husband, and, sons, on, t...</td>\n",
              "    </tr>\n",
              "    <tr>\n",
              "      <th>4</th>\n",
              "      <td>id10330</td>\n",
              "      <td>My girlfriends and I stayed here to celebrate ...</td>\n",
              "      <td>Edge</td>\n",
              "      <td>Tablet</td>\n",
              "      <td>not happy</td>\n",
              "      <td>[my, girlfriends, and, i, stayed, here, to, ce...</td>\n",
              "    </tr>\n",
              "  </tbody>\n",
              "</table>\n",
              "</div>"
            ],
            "text/plain": [
              "   User_ID                                        Description  \\\n",
              "0  id10326  The room was kind of clean but had a VERY stro...   \n",
              "1  id10327  I stayed at the Crown Plaza April -- - April -...   \n",
              "2  id10328  I booked this hotel through Hotwire at the low...   \n",
              "3  id10329  Stayed here with husband and sons on the way t...   \n",
              "4  id10330  My girlfriends and I stayed here to celebrate ...   \n",
              "\n",
              "        Browser_Used Device_Used Is_Response  \\\n",
              "0               Edge      Mobile   not happy   \n",
              "1  Internet Explorer      Mobile   not happy   \n",
              "2            Mozilla      Tablet   not happy   \n",
              "3   InternetExplorer     Desktop       happy   \n",
              "4               Edge      Tablet   not happy   \n",
              "\n",
              "                                   Token_Description  \n",
              "0  [the, room, was, kind, of, clean, but, had, a,...  \n",
              "1  [i, stayed, at, the, crown, plaza, april, apri...  \n",
              "2  [i, booked, this, hotel, through, hotwire, at,...  \n",
              "3  [stayed, here, with, husband, and, sons, on, t...  \n",
              "4  [my, girlfriends, and, i, stayed, here, to, ce...  "
            ]
          },
          "metadata": {
            "tags": []
          },
          "execution_count": 10
        }
      ]
    },
    {
      "metadata": {
        "id": "SPUIv5zpgXNB",
        "colab_type": "text"
      },
      "cell_type": "markdown",
      "source": [
        "Check Data"
      ]
    },
    {
      "metadata": {
        "id": "TXKwzUbOq8_E",
        "colab_type": "code",
        "colab": {
          "base_uri": "https://localhost:8080/",
          "height": 51
        },
        "outputId": "aec75af1-c43a-4d26-a896-6f689e20e192"
      },
      "cell_type": "code",
      "source": [
        "tokens = [ t for d in df['Token_Description'] for t in d]\n",
        "text = nltk.Text(tokens, name='hotel_review')\n",
        "print(len(text.tokens))\n",
        "print(len(set(text.tokens)))"
      ],
      "execution_count": 11,
      "outputs": [
        {
          "output_type": "stream",
          "text": [
            "6145391\n",
            "46049\n"
          ],
          "name": "stdout"
        }
      ]
    },
    {
      "metadata": {
        "id": "1u2aSqmY3ddv",
        "colab_type": "code",
        "outputId": "45896a31-dce2-4ee0-9950-ebdf741041ef",
        "colab": {
          "base_uri": "https://localhost:8080/",
          "height": 34
        }
      },
      "cell_type": "code",
      "source": [
        "print(text.vocab().most_common(10))"
      ],
      "execution_count": 0,
      "outputs": [
        {
          "output_type": "stream",
          "text": [
            "[('the', 403078), ('and', 214288), ('a', 177061), ('to', 158096), ('was', 134670), ('i', 113531), ('in', 102558), ('we', 88145), ('of', 84152), ('is', 76156)]\n"
          ],
          "name": "stdout"
        }
      ]
    },
    {
      "metadata": {
        "id": "N_cLGtwzDgP_",
        "colab_type": "code",
        "outputId": "fc607056-d160-4967-fe3a-86a0805c989e",
        "colab": {
          "base_uri": "https://localhost:8080/",
          "height": 385
        }
      },
      "cell_type": "code",
      "source": [
        "text.plot(50)"
      ],
      "execution_count": 0,
      "outputs": [
        {
          "output_type": "display_data",
          "data": {
            "image/png": "[encoded data removed]",
            "text/plain": [
              "<Figure size 576x396 with 1 Axes>"
            ]
          },
          "metadata": {
            "tags": []
          }
        }
      ]
    },
    {
      "metadata": {
        "id": "cML-FhPFWaOa",
        "colab_type": "code",
        "colab": {}
      },
      "cell_type": "code",
      "source": [
        "# tagged=nltk.pos_tag(tokens)\n",
        "# allnoun=[word for word,pos in tagged if pos in ['NN','NNP']]"
      ],
      "execution_count": 0,
      "outputs": []
    },
    {
      "metadata": {
        "id": "INrt3TVB4qBp",
        "colab_type": "code",
        "outputId": "b78ec6f9-cab2-4290-d02d-2b0c87aaee0a",
        "colab": {
          "base_uri": "https://localhost:8080/",
          "height": 54
        }
      },
      "cell_type": "code",
      "source": [
        "lower_cnt = int(len(set(text.tokens)) * 0.01) * -1\n",
        "print(text.vocab().most_common()[:lower_cnt:-1])"
      ],
      "execution_count": 0,
      "outputs": [
        {
          "output_type": "stream",
          "text": [
            "[('chong', 1), ('cheech', 1), ('hl', 1), ('normal_illinois', 1), ('bloomington_normal_marriott_hotel_conference_center', 1), ('showuserreviews', 1), ('doble', 1), ('shipyard', 1), ('ofthem', 1), ('peacemaker', 1), ('inida', 1), ('doorguys', 1), ('ruthie', 1), ('hysterically', 1), ('demonic', 1), ('bawled', 1), ('lawerence', 1), ('tcu', 1), ('unfortunetely', 1), ('rebooking', 1), ('guerro', 1), ('snarl', 1), ('stereotypically', 1), ('yanking', 1), ('conformtable', 1), ('penhaligon', 1), ('mcenery', 1), ('habitation', 1), ('gearing', 1), ('beignet', 1), ('feasted', 1), ('tobie', 1), ('reubens', 1), ('pastami', 1), ('bestbi', 1), ('riko', 1), ('waitrose', 1), ('intrusiveness', 1), ('sandalwood', 1), ('lindberg', 1), ('condesending', 1), ('enriching', 1), ('slightiest', 1), ('definitevely', 1), ('gratified', 1), ('applicability', 1), ('cityline', 1), ('zanzibar', 1), ('sittiing', 1), ('oildrill', 1), ('cowyboy', 1), ('sulhpur', 1), ('qua', 1), ('tutto', 1), ('benash', 1), ('carnegies', 1), ('janis', 1), ('rumor', 1), ('cutely', 1), ('strking', 1), ('whaterver', 1), ('residene', 1), ('conditiner', 1), ('heaed', 1), ('sarofeen', 1), ('cutouts', 1), ('aon', 1), ('menstrual', 1), ('barbed', 1), ('obious', 1), ('inderstood', 1), ('padlocked', 1), ('lubricated', 1), ('terrifically', 1), ('desirious', 1), ('shuttlexpress', 1), ('paidless', 1), ('unequivocally', 1), ('blotting', 1), ('toletries', 1), ('situtated', 1), ('northward', 1), ('terrarium', 1), ('gravity', 1), ('yan', 1), ('oversites', 1), ('spatter', 1), ('spatters', 1), ('intensly', 1), ('ould', 1), ('bellguys', 1), ('ontravel', 1), ('shamp', 1), ('cleaninless', 1), ('hhas', 1), ('includs', 1), ('complimantary', 1), ('prressed', 1), ('nadia', 1), ('devolved', 1), ('beyonce', 1), ('jayz', 1), ('unapolgetic', 1), ('heresy', 1), ('lnow', 1), ('festivites', 1), ('manitnance', 1), ('experinces', 1), ('scads', 1), ('jostle', 1), ('unfashionable', 1), ('sleeker', 1), ('swagged', 1), ('beu', 1), ('breezeways', 1), ('prayer', 1), ('mannequin', 1), ('ensembles', 1), ('oaken', 1), ('sacs', 1), ('cohesiveness', 1), ('monsino', 1), ('miquel', 1), ('intolerance', 1), ('housotn', 1), ('gorgeuos', 1), ('sywalk', 1), ('crossway', 1), ('duet', 1), ('insullation', 1), ('timeliness', 1), ('deboarded', 1), ('herding', 1), ('sytem', 1), ('headded', 1), ('judiciary', 1), ('talapia', 1), ('necessairly', 1), ('ebbits', 1), ('twards', 1), ('trawlerfest', 1), ('underutilized', 1), ('genie', 1), ('crittendon', 1), ('larks', 1), ('priceyness', 1), ('thudding', 1), ('aawsome', 1), ('innacurate', 1), ('revitalizer', 1), ('premeire', 1), ('ezra', 1), ('posit', 1), ('auten', 1), ('priceof', 1), ('regions', 1), ('vacs', 1), ('schick', 1), ('cramer', 1), ('cnbc', 1), ('arragements', 1), ('noices', 1), ('dona', 1), ('roosters', 1), ('rthing', 1), ('conforters', 1), ('rebate', 1), ('pion', 1), ('indivuals', 1), ('fury', 1), ('lushes', 1), ('nickanme', 1), ('luxuorius', 1), ('falkon', 1), ('qualifier', 1), ('appeciated', 1), ('chiefly', 1), ('spaah', 1), ('belch', 1), ('concer', 1), ('espinosa', 1), ('disa', 1), ('termina', 1), ('storeroom', 1), ('lowerlevel', 1), ('massachussets', 1), ('reminisced', 1), ('descriptive', 1), ('graeat', 1), ('introducation', 1), ('prosper', 1), ('alawys', 1), ('ecommend', 1), ('abigale', 1), ('highpoints', 1), ('unannounced', 1), ('claudine', 1), ('saxophones', 1), ('unmovable', 1), ('attractactions', 1), ('undeveloped', 1), ('unreadable', 1), ('smashburger', 1), ('elswwhere', 1), ('starckness', 1), ('unzipping', 1), ('aaaahhhhhhhhh', 1), ('babe', 1), ('santaripio', 1), ('crockpot', 1), ('marathonrunners', 1), ('alternativ', 1), ('cockrouches', 1), ('someting', 1), ('ciggarett', 1), ('cofffe', 1), ('scrumtious', 1), ('stgaff', 1), ('crisped', 1), ('comlpaint', 1), ('reltively', 1), ('satue', 1), ('tratment', 1), ('polilte', 1), ('qhat', 1), ('curtaining', 1), ('terylene', 1), ('hsin', 1), ('softess', 1), ('rowboats', 1), ('rowed', 1), ('awaitng', 1), ('totalling', 1), ('complant', 1), ('realtions', 1), ('hammahm', 1), ('trumpy', 1), ('initiated', 1), ('unobstrusively', 1), ('pernight', 1), ('faultlessly', 1), ('tosses', 1), ('twc', 1), ('diffiiculties', 1), ('agriculture', 1), ('horsemanship', 1), ('univeral', 1), ('outpricing', 1), ('thearter', 1), ('gutierez', 1), ('satiation', 1), ('enjoed', 1), ('thematic', 1), ('amenityimagineable', 1), ('mcperson', 1), ('slapstick', 1), ('hist', 1), ('servicewise', 1), ('lethally', 1), ('priceworthy', 1), ('grappa', 1), ('properites', 1), ('azulejos', 1), ('renound', 1), ('lithographs', 1), ('mistekenly', 1), ('teclecomigo', 1), ('faria', 1), ('vieira', 1), ('ost', 1), ('alm', 1), ('bougth', 1), ('sttaf', 1), ('tryed', 1), ('desapoited', 1), ('nomad', 1), ('missississippi', 1), ('cumin', 1), ('washbags', 1), ('backpacked', 1), ('breakwast', 1), ('sheepskin', 1), ('moos', 1), ('aaahhh', 1), ('mohogany', 1), ('miled', 1), ('surroun', 1), ('wqas', 1), ('openely', 1), ('virtualy', 1), ('erring', 1), ('herewith', 1), ('imformative', 1), ('achievement', 1), ('herw', 1), ('wishw', 1), ('apetite', 1), ('dayser', 1), ('danco', 1), ('claridge', 1), ('seance', 1), ('ceiliing', 1), ('ise', 1), ('inefficiencies', 1), ('thisa', 1), ('unbalanced', 1), ('vise', 1), ('erruption', 1), ('buiness', 1), ('enouph', 1), ('taisty', 1), ('replacment', 1), ('profeshional', 1), ('mignons', 1), ('sap', 1), ('barrington', 1), ('eyebrows', 1), ('talbots', 1), ('giagantic', 1), ('downstirs', 1), ('bassinet', 1), ('walikng', 1), ('grassland', 1), ('gaffigan', 1), ('embarressment', 1), ('typified', 1), ('servicescape', 1), ('ceryainly', 1), ('hix', 1), ('shoukld', 1), ('presedential', 1), ('osmond', 1), ('marino', 1), ('heit', 1), ('aneta', 1), ('madio', 1), ('lodgers', 1), ('gansenvoort', 1), ('martinque', 1), ('thstreet', 1), ('parody', 1), ('portlandia', 1), ('biffy', 1), ('fortitude', 1), ('bleepin', 1), ('screentv', 1), ('novemner', 1), ('wifr', 1), ('shelleys', 1), ('extriemly', 1), ('perview', 1), ('destk', 1), ('causal', 1), ('eggspuhler', 1), ('delgado', 1), ('noticd', 1), ('peccadillo', 1), ('satiate', 1), ('convenable', 1), ('inconvenients', 1), ('kennels', 1), ('theye', 1), ('unparalled', 1), ('terraced', 1), ('seattlite', 1), ('nullified', 1), ('invisibly', 1), ('whybtheyboffer', 1), ('eill', 1), ('wellkept', 1), ('presice', 1), ('oportunity', 1), ('tails', 1), ('sweetener', 1), ('jcpenny', 1), ('vitton', 1), ('beingets', 1), ('casear', 1), ('outputs', 1), ('geometic', 1), ('gaurantee', 1), ('flacco', 1), ('quaterback', 1), ('faaaast', 1), ('oranje', 1), ('freash', 1), ('interviewed', 1), ('coldish', 1), ('woulnt', 1), ('sayd', 1), ('antiqueness', 1), ('novels', 1), ('interracted', 1), ('overeall', 1), ('fisheries', 1), ('boylstone', 1), ('baristas', 1), ('pails', 1), ('discord', 1), ('downtwon', 1), ('bossier', 1), ('bertuccis', 1), ('wavy', 1), ('loooooong', 1), ('accentuates', 1), ('deaprtment', 1), ('philadelphis', 1), ('cholesterol', 1), ('cheapthe', 1), ('cornwer', 1), ('borth', 1), ('loungue', 1), ('profane', 1), ('demonize', 1), ('ravenous', 1), ('ravenously', 1), ('momentary', 1), ('latere', 1), ('elsehwere', 1), ('driehause', 1), ('sheds', 1), ('overpiced', 1), ('specks', 1), ('legionairre', 1), ('indiscriminate', 1), ('pornographic', 1), ('tedmed', 1), ('abandon', 1), ('raunchier', 1), ('rowdier', 1), ('authorise', 1), ('beatriz', 1), ('brooke', 1), ('allium', 1), ('sods', 1), ('erternity', 1), ('reggie', 1), ('nathaniel', 1), ('fsn', 1), ('paralleling', 1), ('basecamp', 1), ('preasure', 1), ('backbacking', 1), ('clifford', 1), ('bas', 1), ('adolph', 1), ('toasties', 1), ('carbonara', 1), ('cadbury', 1), ('accommadate', 1), ('toots', 1), ('anunfortunate', 1), ('joop', 1), ('limerick', 1), ('quys', 1), ('soever', 1), ('yukon', 1), ('eiher', 1), ('decidely', 1)]\n"
          ],
          "name": "stdout"
        }
      ]
    },
    {
      "metadata": {
        "id": "3siGpZAXF_5K",
        "colab_type": "code",
        "outputId": "a6e6f0b7-982a-4c3b-ef3c-ae634e561f9e",
        "colab": {
          "base_uri": "https://localhost:8080/",
          "height": 34
        }
      },
      "cell_type": "code",
      "source": [
        "common_texts = df['Token_Description'].tolist()\n",
        "\n",
        "model = Word2Vec(\n",
        "    common_texts,\n",
        "    size=150,\n",
        "    alpha=0.025,\n",
        "    window=10,\n",
        "    min_count=2,\n",
        "    sg=1)\n",
        "\n",
        "model.train(common_texts, total_examples=len(common_texts), epochs=10)"
      ],
      "execution_count": 0,
      "outputs": [
        {
          "output_type": "execute_result",
          "data": {
            "text/plain": [
              "(43610566, 61453910)"
            ]
          },
          "metadata": {
            "tags": []
          },
          "execution_count": 47
        }
      ]
    },
    {
      "metadata": {
        "id": "cIRRRg7VGR7q",
        "colab_type": "code",
        "outputId": "b598ebc2-a25b-4d64-c658-9cbea8a9e8e6",
        "colab": {
          "base_uri": "https://localhost:8080/",
          "height": 241
        }
      },
      "cell_type": "code",
      "source": [
        "model.wv.most_similar(\"france\")"
      ],
      "execution_count": 0,
      "outputs": [
        {
          "output_type": "stream",
          "text": [
            "/usr/local/lib/python3.6/dist-packages/gensim/matutils.py:737: FutureWarning: Conversion of the second argument of issubdtype from `int` to `np.signedinteger` is deprecated. In future, it will be treated as `np.int64 == np.dtype(int).type`.\n",
            "  if np.issubdtype(vec.dtype, np.int):\n"
          ],
          "name": "stderr"
        },
        {
          "output_type": "execute_result",
          "data": {
            "text/plain": [
              "[('sweden', 0.5012258887290955),\n",
              " ('novotels', 0.499895840883255),\n",
              " ('waldolf', 0.49672961235046387),\n",
              " ('aman', 0.49654629826545715),\n",
              " ('brisbane', 0.49461251497268677),\n",
              " ('nerds', 0.48636797070503235),\n",
              " ('palaces', 0.48525434732437134),\n",
              " ('funkiest', 0.4837770462036133),\n",
              " ('haestens', 0.4791772663593292),\n",
              " ('purring', 0.4785471260547638)]"
            ]
          },
          "metadata": {
            "tags": []
          },
          "execution_count": 54
        }
      ]
    },
    {
      "metadata": {
        "id": "NwzvTun9gpv6",
        "colab_type": "code",
        "outputId": "2e1cf0c7-652f-40c0-ddca-18a07f97fedc",
        "colab": {
          "base_uri": "https://localhost:8080/",
          "height": 241
        }
      },
      "cell_type": "code",
      "source": [
        "model.wv.most_similar(\"korea\")"
      ],
      "execution_count": 0,
      "outputs": [
        {
          "output_type": "stream",
          "text": [
            "/usr/local/lib/python3.6/dist-packages/gensim/matutils.py:737: FutureWarning: Conversion of the second argument of issubdtype from `int` to `np.signedinteger` is deprecated. In future, it will be treated as `np.int64 == np.dtype(int).type`.\n",
            "  if np.issubdtype(vec.dtype, np.int):\n"
          ],
          "name": "stderr"
        },
        {
          "output_type": "execute_result",
          "data": {
            "text/plain": [
              "[('larges', 0.626193642616272),\n",
              " ('graumans', 0.6216803193092346),\n",
              " ('nyma', 0.6206377744674683),\n",
              " ('locust', 0.6156489849090576),\n",
              " ('chineese', 0.6107164621353149),\n",
              " ('waling', 0.6060813665390015),\n",
              " ('greenwhich', 0.6023654937744141),\n",
              " ('rockefellar', 0.5982553958892822),\n",
              " ('intersect', 0.5955333113670349),\n",
              " ('olivera', 0.5953435897827148)]"
            ]
          },
          "metadata": {
            "tags": []
          },
          "execution_count": 55
        }
      ]
    },
    {
      "metadata": {
        "id": "GHpXNBy37_eD",
        "colab_type": "code",
        "outputId": "cfff0511-30d7-42f3-e674-2c51004f34be",
        "colab": {
          "base_uri": "https://localhost:8080/",
          "height": 241
        }
      },
      "cell_type": "code",
      "source": [
        "model.wv.most_similar(\"clean\")"
      ],
      "execution_count": 0,
      "outputs": [
        {
          "output_type": "stream",
          "text": [
            "/usr/local/lib/python3.6/dist-packages/gensim/matutils.py:737: FutureWarning: Conversion of the second argument of issubdtype from `int` to `np.signedinteger` is deprecated. In future, it will be treated as `np.int64 == np.dtype(int).type`.\n",
            "  if np.issubdtype(vec.dtype, np.int):\n"
          ],
          "name": "stderr"
        },
        {
          "output_type": "execute_result",
          "data": {
            "text/plain": [
              "[('spotless', 0.7565671801567078),\n",
              " ('deocrated', 0.7326547503471375),\n",
              " ('comfortable', 0.7001372575759888),\n",
              " ('spacious', 0.6978444457054138),\n",
              " ('tidy', 0.6951659321784973),\n",
              " ('immaculate', 0.6759884357452393),\n",
              " ('revive', 0.6696084141731262),\n",
              " ('sleekly', 0.6625135540962219),\n",
              " ('specious', 0.6589911580085754),\n",
              " ('spottlessly', 0.6520050764083862)]"
            ]
          },
          "metadata": {
            "tags": []
          },
          "execution_count": 56
        }
      ]
    },
    {
      "metadata": {
        "id": "JBZu2oHTXpGD",
        "colab_type": "code",
        "outputId": "a4ae5e5a-428f-40eb-b449-11b3322aa51d",
        "colab": {
          "base_uri": "https://localhost:8080/",
          "height": 241
        }
      },
      "cell_type": "code",
      "source": [
        "w1 = [\"bed\",'sheet','pillow']\n",
        "w2 = ['couch']\n",
        "model.wv.most_similar (positive=w1,negative=w2,topn=10)"
      ],
      "execution_count": 0,
      "outputs": [
        {
          "output_type": "stream",
          "text": [
            "/usr/local/lib/python3.6/dist-packages/gensim/matutils.py:737: FutureWarning: Conversion of the second argument of issubdtype from `int` to `np.signedinteger` is deprecated. In future, it will be treated as `np.int64 == np.dtype(int).type`.\n",
            "  if np.issubdtype(vec.dtype, np.int):\n"
          ],
          "name": "stderr"
        },
        {
          "output_type": "execute_result",
          "data": {
            "text/plain": [
              "[('sheets', 0.7050168514251709),\n",
              " ('comforter', 0.6948769092559814),\n",
              " ('pillows', 0.6872971057891846),\n",
              " ('duvet', 0.6672518253326416),\n",
              " ('featherbed', 0.6645382046699524),\n",
              " ('mattress', 0.6613062024116516),\n",
              " ('blanket', 0.647439181804657),\n",
              " ('feather', 0.6237695217132568),\n",
              " ('sheeted', 0.6193832159042358),\n",
              " ('comfortor', 0.6074461340904236)]"
            ]
          },
          "metadata": {
            "tags": []
          },
          "execution_count": 60
        }
      ]
    }
  ]
}