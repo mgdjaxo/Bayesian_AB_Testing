{
  "nbformat": 4,
  "nbformat_minor": 0,
  "metadata": {
    "colab": {
      "name": "connect_google_drive.ipynb",
      "version": "0.3.2",
      "provenance": [],
      "collapsed_sections": [],
      "include_colab_link": true
    },
    "kernelspec": {
      "name": "python2",
      "display_name": "Python 2"
    }
  },
  "cells": [
    {
      "cell_type": "markdown",
      "metadata": {
        "id": "view-in-github",
        "colab_type": "text"
      },
      "source": [
        "<a href=\"https://colab.research.google.com/github/mgdjaxo/hans_huginn/blob/master/doc2vec/gensim_doc2vec.ipynb\" target=\"_parent\"><img src=\"https://colab.research.google.com/assets/colab-badge.svg\" alt=\"Open In Colab\"/></a>"
      ]
    },
    {
      "metadata": {
        "id": "6i0NFYsG6iUL",
        "colab_type": "code",
        "colab": {}
      },
      "cell_type": "code",
      "source": [
        "from google.colab import drive\n",
        "drive.mount('/content/gdrive')"
      ],
      "execution_count": 0,
      "outputs": []
    },
    {
      "metadata": {
        "id": "Tau7WFNaAfH5",
        "colab_type": "code",
        "colab": {}
      },
      "cell_type": "code",
      "source": [
        "!mkdir data\n",
        "!cp 'gdrive/My Drive/blog_notebooks/hotel-reviews.csv' 'data/hotel-reviews.csv'"
      ],
      "execution_count": 0,
      "outputs": []
    },
    {
      "metadata": {
        "id": "q7vxRumfAwew",
        "colab_type": "code",
        "outputId": "955bb16b-0323-4008-9abb-c2dbcf8931da",
        "colab": {
          "base_uri": "https://localhost:8080/",
          "height": 122
        }
      },
      "cell_type": "code",
      "source": [
        "!tail -5 data/hotel-reviews.csv"
      ],
      "execution_count": 3,
      "outputs": [
        {
          "output_type": "stream",
          "text": [
            "id49254,\"The only positive impression is location and public parking on the opposite site of the street. The hotel and rooms are very-very-very modest and spartan (even we have an upgraded room with a shower and wc) and also not very clean. Hotel is ok for its price but next time in SFO I'll better pay more and choose better hotel.\r\n",
            "Breakfast is not included, however there it very nice place with great breakfasts (porridge, toasts, fruits, eggs, etc.) from -am just two minutes away - Cafe de la Presse (https:--maps.google.ru-maps?hl=ru).\",InternetExplorer,Mobile,not happy\r\n",
            "id49255,\"Traveling with friends for shopping and a show. The location is Great, but that is the best I can say. The rooms are very average, hallway carpet is stained and buckled in many places. Couch and carpet in the room were also both stained. We had - rooms each with - people. One room had one nice fluffy robe and a throw, the other room had none. Upon leaving we called -- minutes ahead ahead for our car, as instructed. We came down, the bell man asked if we needed a cab, we told him we were waiting for our car. we waited -- minutes, with him standing right there at the bell stand, then he disappeared. we went inside to ask and the receptionist told us she forget to tell him to get it, and he was busy, so we would have to wait. She apologized, we waited another -- minutes, the manager asked if we were being helped, we explained our situation at which point the bell man came up and said he was busy and very rudely told us he would go get and was mumbling about us as he left-very bad customer service-given it was their mistake. I would not stay here again.\",Firefox,Mobile,not happy\r\n",
            "id49256,\"The experience was just ok. We paid extra for a view of the pool, but we just got a view of a palm tree blocking the pool. oh well... better than a parking lot or a dumpster. The most memorable part of our stay was the vent above the shower which was a portal to adjacent rooms. We heard conversations from our neighbors and then the odor of whatever weed they were smoking next door started to fill our room. At the end of the day, we were sure we were staying next to cheech and chong. Welcome to California, I guess.\",Chrome,Desktop,not happy\r\n",
            "id49257,The Westin is a wonderfully restored grande dame hotel. The beds and linens are excellent. Have to pay for internet,Mozilla,Desktop,happy\r\n"
          ],
          "name": "stdout"
        }
      ]
    },
    {
      "metadata": {
        "id": "XCE9aQduBvUU",
        "colab_type": "text"
      },
      "cell_type": "markdown",
      "source": [
        "Imports package"
      ]
    },
    {
      "metadata": {
        "id": "XgMkbaI1BAYl",
        "colab_type": "code",
        "colab": {}
      },
      "cell_type": "code",
      "source": [
        "import pandas , nltk\n",
        "from gensim.models.doc2vec import Doc2Vec, TaggedDocument\n",
        "from nltk.tokenize import RegexpTokenizer"
      ],
      "execution_count": 0,
      "outputs": []
    },
    {
      "metadata": {
        "id": "bdzPQrXTgQ9K",
        "colab_type": "text"
      },
      "cell_type": "markdown",
      "source": [
        "Load Data"
      ]
    },
    {
      "metadata": {
        "id": "1zOVmZb5a-yo",
        "colab_type": "code",
        "colab": {}
      },
      "cell_type": "code",
      "source": [
        "filename = 'data/hotel-reviews.csv'\n",
        "df = pandas.read_csv(filename, sep=',')"
      ],
      "execution_count": 0,
      "outputs": []
    },
    {
      "metadata": {
        "id": "p2g14mcdE8Cy",
        "colab_type": "code",
        "outputId": "60e3d2d9-c08f-4111-d4dc-6b18655cc015",
        "colab": {
          "base_uri": "https://localhost:8080/",
          "height": 204
        }
      },
      "cell_type": "code",
      "source": [
        "df.head()"
      ],
      "execution_count": 6,
      "outputs": [
        {
          "output_type": "execute_result",
          "data": {
            "text/html": [
              "<div>\n",
              "<style scoped>\n",
              "    .dataframe tbody tr th:only-of-type {\n",
              "        vertical-align: middle;\n",
              "    }\n",
              "\n",
              "    .dataframe tbody tr th {\n",
              "        vertical-align: top;\n",
              "    }\n",
              "\n",
              "    .dataframe thead th {\n",
              "        text-align: right;\n",
              "    }\n",
              "</style>\n",
              "<table border=\"1\" class=\"dataframe\">\n",
              "  <thead>\n",
              "    <tr style=\"text-align: right;\">\n",
              "      <th></th>\n",
              "      <th>User_ID</th>\n",
              "      <th>Description</th>\n",
              "      <th>Browser_Used</th>\n",
              "      <th>Device_Used</th>\n",
              "      <th>Is_Response</th>\n",
              "    </tr>\n",
              "  </thead>\n",
              "  <tbody>\n",
              "    <tr>\n",
              "      <th>0</th>\n",
              "      <td>id10326</td>\n",
              "      <td>The room was kind of clean but had a VERY stro...</td>\n",
              "      <td>Edge</td>\n",
              "      <td>Mobile</td>\n",
              "      <td>not happy</td>\n",
              "    </tr>\n",
              "    <tr>\n",
              "      <th>1</th>\n",
              "      <td>id10327</td>\n",
              "      <td>I stayed at the Crown Plaza April -- - April -...</td>\n",
              "      <td>Internet Explorer</td>\n",
              "      <td>Mobile</td>\n",
              "      <td>not happy</td>\n",
              "    </tr>\n",
              "    <tr>\n",
              "      <th>2</th>\n",
              "      <td>id10328</td>\n",
              "      <td>I booked this hotel through Hotwire at the low...</td>\n",
              "      <td>Mozilla</td>\n",
              "      <td>Tablet</td>\n",
              "      <td>not happy</td>\n",
              "    </tr>\n",
              "    <tr>\n",
              "      <th>3</th>\n",
              "      <td>id10329</td>\n",
              "      <td>Stayed here with husband and sons on the way t...</td>\n",
              "      <td>InternetExplorer</td>\n",
              "      <td>Desktop</td>\n",
              "      <td>happy</td>\n",
              "    </tr>\n",
              "    <tr>\n",
              "      <th>4</th>\n",
              "      <td>id10330</td>\n",
              "      <td>My girlfriends and I stayed here to celebrate ...</td>\n",
              "      <td>Edge</td>\n",
              "      <td>Tablet</td>\n",
              "      <td>not happy</td>\n",
              "    </tr>\n",
              "  </tbody>\n",
              "</table>\n",
              "</div>"
            ],
            "text/plain": [
              "   User_ID                                        Description  \\\n",
              "0  id10326  The room was kind of clean but had a VERY stro...   \n",
              "1  id10327  I stayed at the Crown Plaza April -- - April -...   \n",
              "2  id10328  I booked this hotel through Hotwire at the low...   \n",
              "3  id10329  Stayed here with husband and sons on the way t...   \n",
              "4  id10330  My girlfriends and I stayed here to celebrate ...   \n",
              "\n",
              "        Browser_Used Device_Used Is_Response  \n",
              "0               Edge      Mobile   not happy  \n",
              "1  Internet Explorer      Mobile   not happy  \n",
              "2            Mozilla      Tablet   not happy  \n",
              "3   InternetExplorer     Desktop       happy  \n",
              "4               Edge      Tablet   not happy  "
            ]
          },
          "metadata": {
            "tags": []
          },
          "execution_count": 6
        }
      ]
    },
    {
      "metadata": {
        "id": "g38qc4ohZsBe",
        "colab_type": "code",
        "outputId": "f802c2ec-8075-48d9-c7b2-feabb495cfbf",
        "colab": {
          "base_uri": "https://localhost:8080/",
          "height": 204
        }
      },
      "cell_type": "code",
      "source": [
        "def nltk_tokenizer(_wd):\n",
        "  return RegexpTokenizer(r'\\w+').tokenize(_wd.lower())\n",
        "\n",
        "df['Token_Description'] = df['Description'].apply(nltk_tokenizer)\n",
        "df.head()"
      ],
      "execution_count": 7,
      "outputs": [
        {
          "output_type": "execute_result",
          "data": {
            "text/html": [
              "<div>\n",
              "<style scoped>\n",
              "    .dataframe tbody tr th:only-of-type {\n",
              "        vertical-align: middle;\n",
              "    }\n",
              "\n",
              "    .dataframe tbody tr th {\n",
              "        vertical-align: top;\n",
              "    }\n",
              "\n",
              "    .dataframe thead th {\n",
              "        text-align: right;\n",
              "    }\n",
              "</style>\n",
              "<table border=\"1\" class=\"dataframe\">\n",
              "  <thead>\n",
              "    <tr style=\"text-align: right;\">\n",
              "      <th></th>\n",
              "      <th>User_ID</th>\n",
              "      <th>Description</th>\n",
              "      <th>Browser_Used</th>\n",
              "      <th>Device_Used</th>\n",
              "      <th>Is_Response</th>\n",
              "      <th>Token_Description</th>\n",
              "    </tr>\n",
              "  </thead>\n",
              "  <tbody>\n",
              "    <tr>\n",
              "      <th>0</th>\n",
              "      <td>id10326</td>\n",
              "      <td>The room was kind of clean but had a VERY stro...</td>\n",
              "      <td>Edge</td>\n",
              "      <td>Mobile</td>\n",
              "      <td>not happy</td>\n",
              "      <td>[the, room, was, kind, of, clean, but, had, a,...</td>\n",
              "    </tr>\n",
              "    <tr>\n",
              "      <th>1</th>\n",
              "      <td>id10327</td>\n",
              "      <td>I stayed at the Crown Plaza April -- - April -...</td>\n",
              "      <td>Internet Explorer</td>\n",
              "      <td>Mobile</td>\n",
              "      <td>not happy</td>\n",
              "      <td>[i, stayed, at, the, crown, plaza, april, apri...</td>\n",
              "    </tr>\n",
              "    <tr>\n",
              "      <th>2</th>\n",
              "      <td>id10328</td>\n",
              "      <td>I booked this hotel through Hotwire at the low...</td>\n",
              "      <td>Mozilla</td>\n",
              "      <td>Tablet</td>\n",
              "      <td>not happy</td>\n",
              "      <td>[i, booked, this, hotel, through, hotwire, at,...</td>\n",
              "    </tr>\n",
              "    <tr>\n",
              "      <th>3</th>\n",
              "      <td>id10329</td>\n",
              "      <td>Stayed here with husband and sons on the way t...</td>\n",
              "      <td>InternetExplorer</td>\n",
              "      <td>Desktop</td>\n",
              "      <td>happy</td>\n",
              "      <td>[stayed, here, with, husband, and, sons, on, t...</td>\n",
              "    </tr>\n",
              "    <tr>\n",
              "      <th>4</th>\n",
              "      <td>id10330</td>\n",
              "      <td>My girlfriends and I stayed here to celebrate ...</td>\n",
              "      <td>Edge</td>\n",
              "      <td>Tablet</td>\n",
              "      <td>not happy</td>\n",
              "      <td>[my, girlfriends, and, i, stayed, here, to, ce...</td>\n",
              "    </tr>\n",
              "  </tbody>\n",
              "</table>\n",
              "</div>"
            ],
            "text/plain": [
              "   User_ID                                        Description  \\\n",
              "0  id10326  The room was kind of clean but had a VERY stro...   \n",
              "1  id10327  I stayed at the Crown Plaza April -- - April -...   \n",
              "2  id10328  I booked this hotel through Hotwire at the low...   \n",
              "3  id10329  Stayed here with husband and sons on the way t...   \n",
              "4  id10330  My girlfriends and I stayed here to celebrate ...   \n",
              "\n",
              "        Browser_Used Device_Used Is_Response  \\\n",
              "0               Edge      Mobile   not happy   \n",
              "1  Internet Explorer      Mobile   not happy   \n",
              "2            Mozilla      Tablet   not happy   \n",
              "3   InternetExplorer     Desktop       happy   \n",
              "4               Edge      Tablet   not happy   \n",
              "\n",
              "                                   Token_Description  \n",
              "0  [the, room, was, kind, of, clean, but, had, a,...  \n",
              "1  [i, stayed, at, the, crown, plaza, april, apri...  \n",
              "2  [i, booked, this, hotel, through, hotwire, at,...  \n",
              "3  [stayed, here, with, husband, and, sons, on, t...  \n",
              "4  [my, girlfriends, and, i, stayed, here, to, ce...  "
            ]
          },
          "metadata": {
            "tags": []
          },
          "execution_count": 7
        }
      ]
    },
    {
      "metadata": {
        "id": "SPUIv5zpgXNB",
        "colab_type": "text"
      },
      "cell_type": "markdown",
      "source": [
        "Check Data"
      ]
    },
    {
      "metadata": {
        "id": "TXKwzUbOq8_E",
        "colab_type": "code",
        "outputId": "c3665f1b-9a6a-43e0-e431-72678852c43c",
        "colab": {
          "base_uri": "https://localhost:8080/",
          "height": 51
        }
      },
      "cell_type": "code",
      "source": [
        "tokens = [ t for d in df['Token_Description'] for t in d]\n",
        "text = nltk.Text(tokens, name='hotel_review')\n",
        "print(len(text.tokens))\n",
        "print(len(set(text.tokens)))"
      ],
      "execution_count": 8,
      "outputs": [
        {
          "output_type": "stream",
          "text": [
            "6147511\n",
            "46936\n"
          ],
          "name": "stdout"
        }
      ]
    },
    {
      "metadata": {
        "id": "1u2aSqmY3ddv",
        "colab_type": "code",
        "outputId": "3f026ee4-1d4e-48a9-ebcb-146870726f1a",
        "colab": {
          "base_uri": "https://localhost:8080/",
          "height": 34
        }
      },
      "cell_type": "code",
      "source": [
        "print(text.vocab().most_common(10))"
      ],
      "execution_count": 9,
      "outputs": [
        {
          "output_type": "stream",
          "text": [
            "[('the', 403077), ('and', 214287), ('a', 177061), ('to', 158094), ('was', 134667), ('i', 113235), ('in', 102555), ('we', 88080), ('of', 84151), ('is', 76153)]\n"
          ],
          "name": "stdout"
        }
      ]
    },
    {
      "metadata": {
        "id": "N_cLGtwzDgP_",
        "colab_type": "code",
        "outputId": "659a36ca-1277-4e33-eac3-9ce47433abca",
        "colab": {
          "base_uri": "https://localhost:8080/",
          "height": 385
        }
      },
      "cell_type": "code",
      "source": [
        "text.plot(50)"
      ],
      "execution_count": 10,
      "outputs": [
        {
          "output_type": "display_data",
          "data": {
            "image/png": "[encoded data removed]",
            "text/plain": [
              "<Figure size 576x396 with 1 Axes>"
            ]
          },
          "metadata": {
            "tags": []
          }
        }
      ]
    },
    {
      "metadata": {
        "id": "cML-FhPFWaOa",
        "colab_type": "code",
        "colab": {}
      },
      "cell_type": "code",
      "source": [
        "# tagged=nltk.pos_tag(tokens)\n",
        "# allnoun=[word for word,pos in tagged if pos in ['NN','NNP']]"
      ],
      "execution_count": 0,
      "outputs": []
    },
    {
      "metadata": {
        "id": "INrt3TVB4qBp",
        "colab_type": "code",
        "outputId": "1ce88d89-fd59-4e99-aba2-2942731e1888",
        "colab": {
          "base_uri": "https://localhost:8080/",
          "height": 54
        }
      },
      "cell_type": "code",
      "source": [
        "lower_cnt = int(len(set(text.tokens)) * 0.01) * -1\n",
        "print(text.vocab().most_common()[:lower_cnt:-1])"
      ],
      "execution_count": 12,
      "outputs": [
        {
          "output_type": "stream",
          "text": [
            "[('trocadero', 1), ('degustation', 1), ('grandiosity', 1), ('contiki', 1), ('sheri', 1), ('pranged', 1), ('moguls', 1), ('kattan', 1), ('wheelers', 1), ('kerouac', 1), ('upsells', 1), ('immobilized', 1), ('veeeery', 1), ('lunching', 1), ('boop', 1), ('offerrings', 1), ('caitlins', 1), ('cupon', 1), ('faneul', 1), ('ez', 1), ('courtous', 1), ('hilfiger', 1), ('lubricated', 1), ('mattering', 1), ('recede', 1), ('jaffe', 1), ('english\\xe2', 1), ('contradictory', 1), ('huntingdon', 1), ('aquafina', 1), ('pbrs', 1), ('privatnkse', 1), ('opodo', 1), ('grapevine', 1), ('stucture', 1), ('furter', 1), ('hosptials', 1), ('thanksfully', 1), ('spiller', 1), ('glittery', 1), ('nywhere', 1), ('epiphany', 1), ('jetski', 1), ('slue', 1), ('proberly', 1), ('mite', 1), ('tempered', 1), ('lanais', 1), ('wesley', 1), ('locati', 1), ('locatn', 1), ('misters', 1), ('woulnt', 1), ('handerly', 1), ('conerns', 1), ('clouths', 1), ('leaded', 1), ('aawsome', 1), ('expendables', 1), ('gnats', 1), ('aritza', 1), ('holler', 1), ('assumably', 1), ('represenative', 1), ('margharitas', 1), ('travelmate', 1), ('vislt', 1), ('could\\xe2', 1), ('taxpayers', 1), ('starres', 1), ('ahed', 1), ('maintanenced', 1), ('microsuede', 1), ('msft', 1), ('knot', 1), ('adjioning', 1), ('headwaiter', 1), ('sytems', 1), ('gettin\\xc2', 1), ('earthquakes', 1), ('skm', 1), ('sweetener', 1), ('unsigned', 1), ('avidly', 1), ('patrik', 1), ('hardpressed', 1), ('choice\\xe2', 1), ('curtesy', 1), ('hale', 1), ('ironsides', 1), ('bartends', 1), ('antipasto', 1), ('efficientcies', 1), ('shortyly', 1), ('xiomara', 1), ('ashly', 1), ('diploma', 1), ('takeoffs', 1), ('puming', 1), ('overpasses', 1), ('zilch', 1), ('creig', 1), ('greetied', 1), ('phyllo', 1), ('hippos', 1), ('inclueded', 1), ('nwhile', 1), ('comftable', 1), ('limply', 1), ('disparate', 1), ('parfect', 1), ('whore', 1), ('glistens', 1), ('fiddlers', 1), ('halina', 1), ('chloramines', 1), ('tapered', 1), ('locacation', 1), ('wilk', 1), ('riche', 1), ('inefficiency', 1), ('unprecidented', 1), ('iteslf', 1), ('buffy', 1), ('missississippi', 1), ('brodhy', 1), ('butchers', 1), ('spectaclar', 1), ('tweezers', 1), ('enterlude', 1), ('salgado', 1), ('sheeps', 1), ('rdeuced', 1), ('alloacted', 1), ('sleaziest', 1), ('smilling', 1), ('grail', 1), ('true\\xe2', 1), ('lentil', 1), ('wilbur', 1), ('excrutiating', 1), ('gooooooooood', 1), ('favoites', 1), ('audiovisual', 1), ('terylene', 1), ('masterful', 1), ('mexicans', 1), ('thetv', 1), ('panto', 1), ('violet', 1), ('unfairly', 1), ('chrstmas', 1), ('resuarants', 1), ('viet', 1), ('vies', 1), ('bespoke', 1), ('overwelmed', 1), ('rendevous', 1), ('paitently', 1), ('zigs', 1), ('dopp', 1), ('rendition', 1), ('delgado', 1), ('penetrate', 1), ('tussuad', 1), ('winson', 1), ('workig', 1), ('winsor', 1), ('workin', 1), ('moen', 1), ('lassiter', 1), ('candidates', 1), ('freeload', 1), ('presumingly', 1), ('jhave', 1), ('burgled', 1), ('escobar', 1), ('allredy', 1), ('illuminations', 1), ('smirked', 1), ('dena', 1), ('energizing', 1), ('highschool', 1), ('typifying', 1), ('demure', 1), ('deent', 1), ('delightly', 1), ('firecrackers', 1), ('optometry', 1), ('gha', 1), ('sallys', 1), ('wreckless', 1), ('couldtrip', 1), ('oozing', 1), ('florid', 1), ('shank', 1), ('recuperative', 1), ('metter', 1), ('pitifull', 1), ('cuttting', 1), ('wathced', 1), ('lateness', 1), ('doolleys', 1), ('den\\xe2', 1), ('goning', 1), ('unskimmed', 1), ('_very_small', 1), ('effeciantly', 1), ('toots', 1), ('migth', 1), ('pergamino', 1), ('overdraft', 1), ('flourish', 1), ('droop', 1), ('salient', 1), ('crators', 1), ('treccolori', 1), ('asam', 1), ('homero', 1), ('haviing', 1), ('somethingn', 1), ('cain', 1), ('riko', 1), ('yougrt', 1), ('segregated', 1), ('vinpearl', 1), ('beknown', 1), ('yore', 1), ('conflicts', 1), ('confermation', 1), ('yorl', 1), ('woobie', 1), ('hilga', 1), ('elixirs', 1), ('dictionary', 1), ('proviso', 1), ('anyhoo', 1), ('grity', 1), ('slection', 1), ('aon', 1), ('dominion', 1), ('forested', 1), ('exploreing', 1), ('pashima', 1), ('testifying', 1), ('beenvery', 1), ('muralist', 1), ('eases', 1), ('overbookings', 1), ('mosts', 1), ('fiddly', 1), ('fundraiser', 1), ('smithosian', 1), ('trad', 1), ('necessay', 1), ('passteries', 1), ('precess', 1), ('beholden', 1), ('piggybacked', 1), ('byb', 1), ('ocasionaly', 1), ('corriders', 1), ('maccurdy', 1), ('imformatiive', 1), ('inlet', 1), ('complicate', 1), ('mraz', 1), ('thogh', 1), ('conceriage', 1), ('elip', 1), ('dearest', 1), ('evelyne', 1), ('fizzy', 1), ('elio', 1), ('quesidilla', 1), ('elif', 1), ('sttichery', 1), ('starlets', 1), ('sweetens', 1), ('unhitch', 1), ('yeeeaaahhhhh', 1), ('vallets', 1), ('vallett', 1), ('blelvedere', 1), ('understanded', 1), ('benifit', 1), ('dusable', 1), ('heckling', 1), ('administrator', 1), ('colums', 1), ('inaugural', 1), ('businessl', 1), ('tao', 1), ('tam', 1), ('lcean', 1), ('nightable', 1), ('arlen', 1), ('construciton', 1), ('nordstrom\\xe2', 1), ('ihg\\xe2', 1), ('concentrates', 1), ('stereotypically', 1), ('thwack', 1), ('inclines', 1), ('frescas', 1), ('lookiing', 1), ('restuarnts', 1), ('remission', 1), ('craining', 1), ('mmukiibi', 1), ('gaahed', 1), ('actualy', 1), ('relaying', 1), ('widing', 1), ('friendlhy', 1), ('spruiker', 1), ('ahave', 1), ('spenders', 1), ('levators', 1), ('tocapital', 1), ('feverishly', 1), ('note\\xe2', 1), ('simpleton', 1), ('ambiances', 1), ('cyclist', 1), ('fishermann', 1), ('flintsone', 1), ('ruid', 1), ('arragements', 1), ('gathers', 1), ('fence\\xe2', 1), ('venable', 1), ('unsafely', 1), ('rrs', 1), ('lesure', 1), ('humidit', 1), ('rrc', 1), ('cfd', 1), ('hostoric', 1), ('cfm', 1), ('particualr', 1), ('booksellers', 1), ('cockroache', 1), ('notel', 1), ('refolded', 1), ('ambiance\\xe2', 1), ('tuts', 1), ('bosses', 1), ('envios', 1), ('alder', 1), ('restuck', 1), ('normally\\xe2', 1), ('tasmina', 1), ('heatable', 1), ('althouth', 1), ('parksleepfly', 1), ('behaived', 1), ('reuested', 1), ('ldeka', 1), ('trashiness', 1), ('truckstop', 1), ('tofutti', 1), ('overllooking', 1), ('superdrug', 1), ('karma', 1), ('amoung', 1), ('nightare', 1), ('henever', 1), ('girlfriend\\xe2', 1), ('philadelphias', 1), ('everone', 1), ('gudge', 1), ('philadelphian', 1), ('restraunys', 1), ('malicious', 1), ('necessesary', 1), ('spesific', 1), ('strwood', 1), ('sometlc', 1), ('augerge', 1), ('economized', 1), ('mediation', 1), ('matre', 1), ('sesson', 1), ('vigilent', 1), ('cartwheel', 1), ('continrntal', 1), ('wnt', 1), ('noisest', 1), ('familiy', 1), ('victorians', 1), ('wne', 1), ('familir', 1), ('fabio', 1), ('crawlilng', 1), ('braged', 1), ('promiximity', 1), ('concergerie', 1), ('premisses', 1), ('shining\\xe2', 1), ('hosptial', 1), ('charllotte', 1), ('villitia', 1), ('jardiniere', 1), ('stitched', 1), ('moss', 1), ('casablanca\\xe2', 1), ('livingsocial', 1), ('assoc', 1), ('defenatly', 1), ('accorhotels', 1), ('recited', 1), ('worldddd', 1), ('esspresso', 1), ('entrepreneurs', 1), ('cleansiness', 1), ('roundup', 1), ('restauranys', 1), ('palmet', 1), ('zzz', 1), ('turism', 1), ('cupons', 1), ('prof', 1), ('youcould', 1), ('ozmelek', 1), ('nosing', 1), ('hostelworld', 1), ('godfather', 1), ('butterscotch', 1), ('marmalade', 1), ('dinstinctly', 1), ('girfriend', 1), ('slatted', 1), ('capitale', 1), ('valeting', 1), ('vechicles', 1), ('marian', 1), ('modifications', 1), ('mariah', 1), ('appoined', 1), ('bothrooms', 1), ('sharpener', 1), ('sittin', 1), ('fieldwork', 1), ('tracvelocity', 1), ('accessibilty', 1), ('selction', 1), ('daugthers', 1), ('witih', 1), ('retiree', 1), ('pro\\xc2', 1), ('pohl', 1), ('reccomand', 1), ('endeavour', 1), ('honeymooning', 1), ('hotdog', 1), ('theaterical', 1), ('gultch', 1), ('starved', 1), ('xacto', 1), ('robes\\xc2', 1), ('beathroom', 1), ('bucs', 1), ('targetting', 1), ('unrepaired', 1), ('bankmachine', 1), ('dulux', 1), ('centeal', 1)]\n"
          ],
          "name": "stdout"
        }
      ]
    },
    {
      "metadata": {
        "id": "DP9QH7GYyrvA",
        "colab_type": "code",
        "colab": {}
      },
      "cell_type": "code",
      "source": [
        "doc_df = df[['User_ID','Token_Description']].values.tolist()"
      ],
      "execution_count": 0,
      "outputs": []
    },
    {
      "metadata": {
        "id": "zoeLHMf1wx_Y",
        "colab_type": "code",
        "colab": {}
      },
      "cell_type": "code",
      "source": [
        "tagged_data = [TaggedDocument(words=_d, tags=[uid]) for uid, _d in doc_df]"
      ],
      "execution_count": 0,
      "outputs": []
    },
    {
      "metadata": {
        "id": "IXnBa8vR6TTz",
        "colab_type": "code",
        "colab": {
          "base_uri": "https://localhost:8080/",
          "height": 275
        },
        "outputId": "9e3a7e08-c9d9-44ba-f9e0-d65eba8df08a"
      },
      "cell_type": "code",
      "source": [
        "max_epochs = 10\n",
        "\n",
        "model = Doc2Vec(\n",
        "    window=10,\n",
        "    size=150,\n",
        "    alpha=0.025, \n",
        "    min_alpha=0.025,\n",
        "    min_count=2,\n",
        "    dm =1,\n",
        "    negative = 5,\n",
        "    seed = 9999)\n",
        "  \n",
        "model.build_vocab(tagged_data)\n",
        "\n",
        "for epoch in range(max_epochs):\n",
        "    print('iteration {0}'.format(epoch))\n",
        "    model.train(tagged_data,\n",
        "                total_examples=model.corpus_count,\n",
        "                epochs=model.iter)\n",
        "    # decrease the learning rate\n",
        "    model.alpha -= 0.002\n",
        "    # fix the learning rate, no decay\n",
        "    model.min_alpha = model.alpha\n",
        "\n",
        "model.save(\"d2v.model\")\n",
        "print(\"Model Saved\")"
      ],
      "execution_count": 15,
      "outputs": [
        {
          "output_type": "stream",
          "text": [
            "/usr/local/lib/python2.7/dist-packages/gensim/models/doc2vec.py:570: UserWarning: The parameter `size` is deprecated, will be removed in 4.0.0, use `vector_size` instead.\n",
            "  warnings.warn(\"The parameter `size` is deprecated, will be removed in 4.0.0, use `vector_size` instead.\")\n"
          ],
          "name": "stderr"
        },
        {
          "output_type": "stream",
          "text": [
            "iteration 0\n"
          ],
          "name": "stdout"
        },
        {
          "output_type": "stream",
          "text": [
            "/usr/local/lib/python2.7/dist-packages/ipykernel_launcher.py:19: DeprecationWarning: Call to deprecated `iter` (Attribute will be removed in 4.0.0, use self.epochs instead).\n"
          ],
          "name": "stderr"
        },
        {
          "output_type": "stream",
          "text": [
            "iteration 1\n",
            "iteration 2\n",
            "iteration 3\n",
            "iteration 4\n",
            "iteration 5\n",
            "iteration 6\n",
            "iteration 7\n",
            "iteration 8\n",
            "iteration 9\n",
            "Model Saved\n"
          ],
          "name": "stdout"
        }
      ]
    },
    {
      "metadata": {
        "id": "cIRRRg7VGR7q",
        "colab_type": "code",
        "outputId": "2cd73f71-f24f-4564-97ea-1264176df612",
        "colab": {
          "base_uri": "https://localhost:8080/",
          "height": 241
        }
      },
      "cell_type": "code",
      "source": [
        "model.wv.most_similar('korea',topn=10)"
      ],
      "execution_count": 16,
      "outputs": [
        {
          "output_type": "stream",
          "text": [
            "/usr/local/lib/python2.7/dist-packages/gensim/matutils.py:737: FutureWarning: Conversion of the second argument of issubdtype from `int` to `np.signedinteger` is deprecated. In future, it will be treated as `np.int64 == np.dtype(int).type`.\n",
            "  if np.issubdtype(vec.dtype, np.int):\n"
          ],
          "name": "stderr"
        },
        {
          "output_type": "execute_result",
          "data": {
            "text/plain": [
              "[('sunland', 0.36767110228538513),\n",
              " ('chi', 0.3660660684108734),\n",
              " ('china', 0.34577131271362305),\n",
              " ('litre', 0.3443159759044647),\n",
              " ('chestnut', 0.3403611183166504),\n",
              " ('northern', 0.3322069048881531),\n",
              " ('stout', 0.330847829580307),\n",
              " ('sansom', 0.32717645168304443),\n",
              " ('capital', 0.32664617896080017),\n",
              " ('starring', 0.32616478204727173)]"
            ]
          },
          "metadata": {
            "tags": []
          },
          "execution_count": 16
        }
      ]
    },
    {
      "metadata": {
        "id": "NwzvTun9gpv6",
        "colab_type": "code",
        "outputId": "50351aa8-2378-43ce-bd26-9d8e7bc6c8f8",
        "colab": {
          "base_uri": "https://localhost:8080/",
          "height": 187
        }
      },
      "cell_type": "code",
      "source": [
        "model.wv.most_similar(\"clean\")"
      ],
      "execution_count": 17,
      "outputs": [
        {
          "output_type": "execute_result",
          "data": {
            "text/plain": [
              "[('spotless', 0.6767203211784363),\n",
              " ('immaculate', 0.6565164923667908),\n",
              " ('cleaned', 0.40881335735321045),\n",
              " ('couteous', 0.3559042811393738),\n",
              " ('ok', 0.3527701795101166),\n",
              " ('cleanliness', 0.34923362731933594),\n",
              " ('dirty', 0.34790265560150146),\n",
              " ('spacious', 0.34194132685661316),\n",
              " ('smallish', 0.3345677852630615),\n",
              " ('refreshed', 0.33196794986724854)]"
            ]
          },
          "metadata": {
            "tags": []
          },
          "execution_count": 17
        }
      ]
    },
    {
      "metadata": {
        "id": "QpSCwDbWvvsB",
        "colab_type": "code",
        "colab": {
          "base_uri": "https://localhost:8080/",
          "height": 71
        },
        "outputId": "6d2b9b3b-eddd-497a-e32a-0464c564ea79"
      },
      "cell_type": "code",
      "source": [
        "test_id = 20\n",
        "df['User_ID'][test_id], df['Description'][test_id]"
      ],
      "execution_count": 105,
      "outputs": [
        {
          "output_type": "execute_result",
          "data": {
            "text/plain": [
              "('id10346',\n",
              " 'Having stayed at many Hilton properties, I expect a friendly efficient service from what is considered a good brand.\\r\\nThis property was a let down. Initially, things went smoothly. Check-in was fine, as a HHonors Gold member I was informed with an apology that they did not have an Executive Floor to upgrade me to, but put me in a - bedroom suite and offered me a complimentary buffet breakfast and the usual wifi vouchers. This is where the good things ended.\\r\\nThe room had issues. Initially, the phone in the living room did not work. They sent someone up to fix the phone, and then some --- hours later it just started randomly producing high pitched beeps (which in turn woke me up). In addition, the guest compendium was empty (as in someone had removed the pages). It took - phone calls and - people to come up to my room to actually understand what I was requesting, and deliver a full compendium.\\r\\nI also had cause to contact and visit the front desk at various stages later in the evening during my stay. To say the night staff were next to useless would be an over-statement. The night manager basically said nothing to my requests, or as little as possible. They treated me like I was putting them out of their way and disrupting them being lazy. One particular staff member was so bad I wrote a separate complaint to Hilton about them.\\r\\nI also witnessed a lady in obvious distress attempting to get a room late one evening. When they informed her she was not able to get a room without photo ID she became upset and aggravated. She ranted a little bit about \\'if I get murdered tonight, it\\'ll be on your conscious\\' to which the night manager replied \"\"\"\"\"\"\"\"\"\"\"\"\"\"\"\"\"\"\"\"\"\"\"\"\"\"\"\"\"\"\"\"That\\'s ok Ma\\'am, I have no conscious\"\"\"\"\"\"\"\"\"\"\"\"\"\"\"\"\"\"\"\"\"\"\"\"\"\"\"\"\"\"\"\". \\r\\nI\\'ve never seen such rude staff. Would I stay there again? Definitely not by choice.')"
            ]
          },
          "metadata": {
            "tags": []
          },
          "execution_count": 105
        }
      ]
    },
    {
      "metadata": {
        "id": "Mpyl0JWIwhKY",
        "colab_type": "code",
        "colab": {
          "base_uri": "https://localhost:8080/",
          "height": 102
        },
        "outputId": "6b031770-2234-4098-8fcb-954f220777e6"
      },
      "cell_type": "code",
      "source": [
        "model.random.seed(9999)\n",
        "\n",
        "doc_list = df['Token_Description'][test_id]\n",
        "\n",
        "inferred_vector = model.infer_vector(doc_list)\n",
        "return_docs = model.docvecs.most_similar(positive=[inferred_vector],topn=5)\n",
        "\n",
        "for rd in return_docs:\n",
        "  for des in df[df['User_ID'] == rd[0]]['Description']:\n",
        "    print rd[0],rd[1],des"
      ],
      "execution_count": 106,
      "outputs": [
        {
          "output_type": "stream",
          "text": [
            "id20700 0.856425523758 Very nice hotel, good location and the staff very friendly and helpful!\n",
            "id41945 0.839778244495 Very helpful staff, great location\n",
            "id28418 0.834971487522 A great place to stay, very nice staff and great location.\n",
            "id19362 0.834781050682 Great service, great location. Very friendly and helpful staff.\n",
            "id27358 0.830745518208 Great place to stay and super convenient to everything!\n"
          ],
          "name": "stdout"
        }
      ]
    },
    {
      "metadata": {
        "id": "GHpXNBy37_eD",
        "colab_type": "code",
        "outputId": "7d6649ce-22d9-4d36-b9e0-d4ce80725299",
        "colab": {
          "base_uri": "https://localhost:8080/",
          "height": 102
        }
      },
      "cell_type": "code",
      "source": [
        "model.random.seed(9999)\n",
        "\n",
        "doc_list = 'Rooms were clean'.split(' ')\n",
        "\n",
        "inferred_vector = model.infer_vector(doc_list)\n",
        "return_docs = model.docvecs.most_similar(positive=[inferred_vector],topn=5)\n",
        "for rd in return_docs:\n",
        "  for des in df[df['User_ID'] == rd[0]]['Description']:\n",
        "    print rd[0],rd[1],des"
      ],
      "execution_count": 89,
      "outputs": [
        {
          "output_type": "stream",
          "text": [
            "id32805 0.861150860786 Staff was extremely polite and helpful. Rooms were clean.\n",
            "id33500 0.849733650684 Great clean rooms very spacious, clean friendly staff!\n",
            "id41945 0.843459010124 Very helpful staff, great location\n",
            "id48142 0.842454016209 The hotel was clean and the staff was friendly. Location was good.\n",
            "id33404 0.840933084488 Great clean, affordable place in a perfect location.\n"
          ],
          "name": "stdout"
        }
      ]
    },
    {
      "metadata": {
        "id": "iJKpCFYiOeH2",
        "colab_type": "code",
        "colab": {
          "base_uri": "https://localhost:8080/",
          "height": 102
        },
        "outputId": "72e99843-37ce-473b-f6c4-558096f2f637"
      },
      "cell_type": "code",
      "source": [
        "return_docs = model.docvecs.most_similar('id39751',topn=5)\n",
        "for rd in return_docs:\n",
        "  for des in df[df['User_ID'] == rd[0]]['Description']:\n",
        "    print rd[0],rd[1],des"
      ],
      "execution_count": 96,
      "outputs": [
        {
          "output_type": "stream",
          "text": [
            "id37976 0.928553938866 great location, excellent rooms, great breakfast buffet, and good fitness center\n",
            "id29960 0.92801874876 It's a great hotel; great rooms, great service, great location.\n",
            "id36278 0.911462426186 The staff was wonderful and the rooms beautiful. Lovely accomodations\n",
            "id22388 0.908386409283 The employees were very accommodating and friendly\n",
            "id33841 0.906907320023 Very nice and clean rooms. Will definitely stay here again.\n"
          ],
          "name": "stdout"
        }
      ]
    }
  ]
}